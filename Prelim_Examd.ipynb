{
  "nbformat": 4,
  "nbformat_minor": 0,
  "metadata": {
    "colab": {
      "name": "Prelim Exam.ipynb",
      "provenance": []
    },
    "kernelspec": {
      "name": "python3",
      "display_name": "Python 3"
    },
    "language_info": {
      "name": "python"
    }
  },
  "cells": [
    {
      "cell_type": "markdown",
      "metadata": {
        "id": "xEcK2DeFQf_s"
      },
      "source": [
        "##Prelim Exam"
      ]
    },
    {
      "cell_type": "code",
      "metadata": {
        "colab": {
          "base_uri": "https://localhost:8080/"
        },
        "id": "iEHPHNAeNe4O",
        "outputId": "47d0af73-51b9-4266-e54c-b65f5d3f04a7"
      },
      "source": [
        "import numpy as np\n",
        "A = np.array([[1,2,3],[2,3,3],[3,4,-2]])\n",
        "print(A)\n",
        "print(round(np.linalg.det(A)))"
      ],
      "execution_count": 1,
      "outputs": [
        {
          "output_type": "stream",
          "name": "stdout",
          "text": [
            "[[ 1  2  3]\n",
            " [ 2  3  3]\n",
            " [ 3  4 -2]]\n",
            "5\n"
          ]
        }
      ]
    }
  ]
}
